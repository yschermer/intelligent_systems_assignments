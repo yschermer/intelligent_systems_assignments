{
 "cells": [
  {
   "cell_type": "code",
   "execution_count": 1,
   "metadata": {},
   "outputs": [],
   "source": [
    "from random import choice\n",
    "from experta import *"
   ]
  },
  {
   "cell_type": "code",
   "execution_count": 2,
   "metadata": {},
   "outputs": [],
   "source": [
    "class Persoon(Fact):\n",
    "    naam = Field(str, mandatory=True)\n",
    "    geslacht = Field(str, mandatory=True)\n",
    "\n",
    "class Onderwerp(Fact):\n",
    "    pass\n",
    "\n",
    "class Relatie(Fact):\n",
    "    pass"
   ]
  },
  {
   "cell_type": "code",
   "execution_count": 43,
   "metadata": {},
   "outputs": [],
   "source": [
    "class FamilieBoom(KnowledgeEngine):    \n",
    "    @DefFacts()\n",
    "    def init(self):\n",
    "        yield Persoon(naam=\"Opa van moeder\", geslacht=\"m\", kinderen=[\"Moeder\", \"Broer van moeder\", \"Zus van moeder\"])\n",
    "        yield Persoon(naam=\"Oma van moeder\", geslacht=\"f\", kinderen=[\"Moeder\", \"Broer van moeder\", \"Zus van moeder\"])\n",
    "        yield Persoon(naam=\"Opa van vader\", geslacht=\"m\", kinderen=[\"Vader\", \"Broer van vader\"])\n",
    "        yield Persoon(naam=\"Oma van vader\", geslacht=\"f\", kinderen=[\"Vader\", \"Broer van vader\"])\n",
    "        \n",
    "        yield Persoon(naam=\"Moeder\", geslacht=\"f\", kinderen=[\"Ikzelf\", \"Broer\", \"Zus\"], ouders=[\"Opa van moeder\", \"Oma van moeder\"])\n",
    "        yield Persoon(naam=\"Vader\", geslacht=\"m\", kinderen=[\"Ikzelf\", \"Broer\", \"Zus\"], ouders=[\"Opa van vader\", \"Oma van vader\"])\n",
    "        \n",
    "        yield Persoon(naam=\"Ikzelf\", geslacht=\"m\", ouders=[\"Vader\", \"Moeder\"])\n",
    "        \n",
    "        yield Persoon(naam=\"Broer\", geslacht=\"m\", ouders=[\"Vader\", \"Moeder\"], kinderen=[\"Zoon van broer\"])\n",
    "        yield Persoon(naam=\"Zus\", geslacht=\"f\", ouders=[\"Vader\", \"Moeder\"], kinderen=[\"Dochter van zus\"])\n",
    "        \n",
    "        yield Persoon(naam=\"Zoon van broer\", geslacht=\"f\", ouders=[\"Broer\"])\n",
    "        yield Persoon(naam=\"Dochter van zus\", geslacht=\"m\", ouders=[\"Zus\"])\n",
    "               \n",
    "    @Rule()\n",
    "    def invoer(self):\n",
    "        naam = input(\"Wat is de naam van het onderwerp (bijv. 'Ikzelf')? \")\n",
    "        relatie = input(\"Wat is de relatie die je wilt weten (bijv. 'Ouders')? \")\n",
    "        self.declare(Onderwerp(naam))\n",
    "        self.declare(Relatie(relatie))\n",
    "\n",
    "    @Rule(AS.ow << Onderwerp(MATCH.naam), AS.persoon << Persoon(naam=MATCH.naam), AS.r << Relatie(\"Grootouders\"))\n",
    "    def GrootOuders(self, ow, r, persoon):\n",
    "        self.retract(ow)\n",
    "        self.retract(r)\n",
    "        self.declare(Onderwerp(persoon[\"ouders\"][0]))\n",
    "        self.declare(Onderwerp(persoon[\"ouders\"][1]))\n",
    "        self.declare(Relatie(\"Ouders\"))\n",
    "        \n",
    "    @Rule(Onderwerp(MATCH.naam), AS.persoon << Persoon(naam=MATCH.naam), Relatie(\"Ouders\"))\n",
    "    def Ouders(self, persoon):\n",
    "        for o in persoon[\"ouders\"]:\n",
    "            print(o)\n",
    "            \n",
    "    @Rule(Onderwerp(MATCH.naam), AS.persoon << Persoon(naam=MATCH.naam, kinderen=W()), Relatie(\"Kinderen\"))\n",
    "    def Kinderen(self, persoon):\n",
    "        for k in persoon[\"kinderen\"]:\n",
    "            print(k)"
   ]
  },
  {
   "cell_type": "code",
   "execution_count": 47,
   "metadata": {},
   "outputs": [
    {
     "name": "stdout",
     "output_type": "stream",
     "text": [
      "Wat is de naam van het onderwerp (bijv. 'Ikzelf')? Vader\n",
      "Wat is de relatie die je wilt weten (bijv. 'Ouders')? Ouders\n",
      "Opa van vader\n",
      "Oma van vader\n"
     ]
    }
   ],
   "source": [
    "engine = FamilieBoom()\n",
    "engine.reset()\n",
    "engine.run()"
   ]
  },
  {
   "cell_type": "code",
   "execution_count": null,
   "metadata": {},
   "outputs": [],
   "source": []
  },
  {
   "cell_type": "code",
   "execution_count": null,
   "metadata": {},
   "outputs": [],
   "source": []
  }
 ],
 "metadata": {
  "kernelspec": {
   "display_name": "Python 3",
   "language": "python",
   "name": "python3"
  },
  "language_info": {
   "codemirror_mode": {
    "name": "ipython",
    "version": 3
   },
   "file_extension": ".py",
   "mimetype": "text/x-python",
   "name": "python",
   "nbconvert_exporter": "python",
   "pygments_lexer": "ipython3",
   "version": "3.8.5"
  }
 },
 "nbformat": 4,
 "nbformat_minor": 4
}
